{
 "cells": [
  {
   "cell_type": "markdown",
   "id": "3c9a836b-4d52-476d-b99e-f422e6614dda",
   "metadata": {},
   "source": [
    "# Effective Software Testing - Fuzzing Assignment\n",
    "Both the description and the solution of this assignment will take place in this interactive jupyter notebook. Your deliverable should contain\n",
    "- a `fuzzing_assignment.ipynb`, which will be the edited version of this file that will contain your solution.\n",
    "- an `assignment_utils.py` that we provide you and holds helper classes for the assignment. Generally speaking, you should not edit this file, but see below for details.\n",
    "\n",
    "The assignment *can* be solved only by filling in the cells where there is the comment \"# Your code here\", **but**, many solutions exist, and it is possible that some of them involve editing other cells of even the `assignment_utils.py`. The comments (\"# Your code here\") are **optional**, and they just indicate an exemplary solution that we will make available to you after the deadline. Feel free to edit any other cell, file, or even install new packages (in which case you must submit them in a comment at the beginning). Finally, any comments, documentation, or other remarks in natural language should take place inside this notebook, in a markdown cell.\n",
    "\n",
    "For any question about the assignment, feel free to reach out to `konstantinos.kitsios@uzh.ch`.\n",
    "\n",
    "Read below for more, and good luck!"
   ]
  },
  {
   "cell_type": "markdown",
   "id": "959d7d20-bc4d-4a5e-97e2-4e95272d26f9",
   "metadata": {},
   "source": [
    "# Installation\n",
    "Python 3.9 is required for this assignment.\n",
    "To install the required packages, create a new `pip` virtual environment and install the required libraries by running\n",
    "```\n",
    "pip install -r requirements.txt\n",
    "```\n",
    "\n",
    "If you encounter issues with the python version or the installation of requirements.txt, please reach out to `konstantinos.kitsios@uzh.ch`."
   ]
  },
  {
   "cell_type": "markdown",
   "id": "91e1e437-08a4-4ccf-81c9-d5b233201677",
   "metadata": {
    "jp-MarkdownHeadingCollapsed": true
   },
   "source": [
    "# Setup\n",
    "The first part of the notebook sets up the environment by implementing classes/functions we talked about during the lecture."
   ]
  },
  {
   "cell_type": "code",
   "id": "b5ba6ead-2ec7-41df-805a-ca72b291b38f",
   "metadata": {
    "ExecuteTime": {
     "end_time": "2025-05-15T18:47:25.575464Z",
     "start_time": "2025-05-15T18:47:24.597360Z"
    }
   },
   "source": [
    "from urllib.parse import urlparse\n",
    "import random\n",
    "import matplotlib.pyplot as plt\n",
    "from scipy.stats import mannwhitneyu\n",
    "import pickle\n",
    "import hashlib\n",
    "from typing import Tuple, List, Callable, Set, Any"
   ],
   "outputs": [],
   "execution_count": 3
  },
  {
   "cell_type": "code",
   "id": "ab3694e3-5ad0-4b3b-a088-d1ef8bf36989",
   "metadata": {
    "ExecuteTime": {
     "end_time": "2025-05-15T18:47:26.214490Z",
     "start_time": "2025-05-15T18:47:26.207726Z"
    }
   },
   "source": [
    "from assignment_utils import Fuzzer, Runner, FunctionRunner, FunctionCoverageRunner, Coverage, population_coverage, Location"
   ],
   "outputs": [],
   "execution_count": 4
  },
  {
   "cell_type": "markdown",
   "id": "203615fd-3160-4e4a-8462-9b7384e92f6e",
   "metadata": {},
   "source": [
    "Remember the `urlparse()` function from the lecture? We will use this again. You might also remember that it never crashes, even with invalid urls, so we will use the corresponding `urlparse_that_crashes()`, like we did in the lecture."
   ]
  },
  {
   "cell_type": "code",
   "id": "8714edfc-99da-494b-a092-3704e183b190",
   "metadata": {
    "ExecuteTime": {
     "end_time": "2025-05-15T18:47:27.537937Z",
     "start_time": "2025-05-15T18:47:27.531748Z"
    }
   },
   "source": [
    "url = \"https://uzh.ch\"\n",
    "urlparse(url)"
   ],
   "outputs": [
    {
     "data": {
      "text/plain": [
       "ParseResult(scheme='https', netloc='uzh.ch', path='', params='', query='', fragment='')"
      ]
     },
     "execution_count": 5,
     "metadata": {},
     "output_type": "execute_result"
    }
   ],
   "execution_count": 5
  },
  {
   "cell_type": "code",
   "id": "21d4e492-1c30-4eca-bbcb-cb4b296d4a76",
   "metadata": {
    "ExecuteTime": {
     "end_time": "2025-05-15T18:47:28.367117Z",
     "start_time": "2025-05-15T18:47:28.364905Z"
    }
   },
   "source": [
    "def urlparse_that_crashes(url: str) -> bool:\n",
    "    supported_schemes = [\"http\", \"https\"]\n",
    "    result = urlparse(url)\n",
    "    if result.scheme not in supported_schemes:\n",
    "        raise ValueError(\"Scheme must be one of \" + repr(supported_schemes))\n",
    "    if result.netloc == '':\n",
    "        raise ValueError(\"Host must be non-empty\")\n",
    "\n",
    "    return True"
   ],
   "outputs": [],
   "execution_count": 6
  },
  {
   "cell_type": "markdown",
   "id": "022bd685-e019-48ed-8a5d-a6abb3d652b5",
   "metadata": {},
   "source": [
    "Now, we will copy the code of the second live coding session we did in during the lecture. The code below implements the mutation part of a mutation-based blackbox fuzzer."
   ]
  },
  {
   "cell_type": "code",
   "id": "9c1058f5-8fc3-4070-9e54-1d04704a4ade",
   "metadata": {
    "ExecuteTime": {
     "end_time": "2025-05-15T18:47:29.758411Z",
     "start_time": "2025-05-15T18:47:29.755821Z"
    }
   },
   "source": [
    "def mutate(s, num_of_mutations = 1):\n",
    "    mutators = [delete_random, insert_random, flip_random]\n",
    "\n",
    "    for i in range(num_of_mutations):\n",
    "        mutator_ind = random.randint(0, 2)\n",
    "        selected_mutator = mutators[mutator_ind]\n",
    "        s = selected_mutator(s)\n",
    "\n",
    "    return s"
   ],
   "outputs": [],
   "execution_count": 7
  },
  {
   "cell_type": "code",
   "id": "356d4ff2-deed-4b17-8cd1-5743c5ad983f",
   "metadata": {
    "ExecuteTime": {
     "end_time": "2025-05-15T18:47:30.888598Z",
     "start_time": "2025-05-15T18:47:30.884491Z"
    }
   },
   "source": [
    "def delete_random(s):\n",
    "    pos_to_delete = random.randint(0, len(s) - 1)\n",
    "    return s[:pos_to_delete-1] + s[pos_to_delete:]"
   ],
   "outputs": [],
   "execution_count": 8
  },
  {
   "cell_type": "code",
   "id": "11b98101-f89d-4f12-88f3-4ff359690824",
   "metadata": {
    "ExecuteTime": {
     "end_time": "2025-05-15T18:47:31.904001Z",
     "start_time": "2025-05-15T18:47:31.901972Z"
    }
   },
   "source": [
    "def insert_random(s):\n",
    "    pos_to_insert = random.randint(0, len(s)-1)\n",
    "    char_to_insert = chr(random.randint(32, 64))\n",
    "    return s[:pos_to_insert-1] + char_to_insert + s[pos_to_insert-1:]"
   ],
   "outputs": [],
   "execution_count": 9
  },
  {
   "cell_type": "code",
   "id": "212a5878-6acb-4ad1-9e47-29202d0bb80d",
   "metadata": {
    "ExecuteTime": {
     "end_time": "2025-05-15T18:47:33.231936Z",
     "start_time": "2025-05-15T18:47:33.229717Z"
    }
   },
   "source": [
    "def flip_random(s):\n",
    "    pos_to_flip  = random.randint(0, len(s)-1)\n",
    "    byte_to_flip = ord(s[pos_to_flip]) # char --> byte\n",
    "    bit_to_flip  = 1 << random.randint(0, 6) # 0010000 or 100000\n",
    "    flipped_char = chr(byte_to_flip ^ bit_to_flip)\n",
    "\n",
    "    return s[:pos_to_flip] + flipped_char + s[pos_to_flip+1:]"
   ],
   "outputs": [],
   "execution_count": 10
  },
  {
   "cell_type": "markdown",
   "id": "c14d123e-872e-4aef-b33c-6087e5b981c6",
   "metadata": {},
   "source": [
    "To put the function `mutate()` in use, we will implement the mutation-based blackbox fuzzer in the `MutationBlackboxFuzzer` class as following. The base class `Fuzzer` is just a placeholder that you can find in `utils.py`."
   ]
  },
  {
   "cell_type": "code",
   "id": "2ea5035c-4de4-4c8f-a63b-65462a9110b8",
   "metadata": {
    "ExecuteTime": {
     "end_time": "2025-05-15T18:47:35.006650Z",
     "start_time": "2025-05-15T18:47:35.002572Z"
    }
   },
   "source": [
    "class MutationBlackboxFuzzer(Fuzzer):\n",
    "    \"\"\"Base class for mutational fuzzing\"\"\"\n",
    "\n",
    "    def __init__(self, seed: List[str],\n",
    "                 min_mutations: int = 2,\n",
    "                 max_mutations: int = 10) -> None:\n",
    "        \"\"\"Constructor.\n",
    "        `seed` - a list of (input) strings to mutate.\n",
    "        `min_mutations` - the minimum number of mutations to apply.\n",
    "        `max_mutations` - the maximum number of mutations to apply.\n",
    "        \"\"\"\n",
    "        self.seed = seed\n",
    "        self.min_mutations = min_mutations\n",
    "        self.max_mutations = max_mutations\n",
    "        self.reset()\n",
    "\n",
    "    def reset(self) -> None:\n",
    "        \"\"\"Set population to initial seed.\n",
    "        To be overloaded in subclasses.\"\"\"\n",
    "        self.population = self.seed\n",
    "        self.seed_index = 0\n",
    "\n",
    "\n",
    "    def mutate(self, inp: str) -> str:\n",
    "        return mutate(inp)\n",
    "\n",
    "    def create_candidate(self) -> str:\n",
    "        \"\"\"Create a new candidate by mutating a population member\"\"\"\n",
    "        candidate = random.choice(self.population)\n",
    "        trials = random.randint(self.min_mutations, self.max_mutations)\n",
    "        for i in range(trials):\n",
    "            candidate = self.mutate(candidate)\n",
    "        return candidate\n",
    "\n",
    "    def fuzz(self) -> str:\n",
    "        # If we did not return all the seeds, return the next seed. Only after we run \n",
    "        # out of seeds, we return a mutated version of the seed\n",
    "        if self.seed_index < len(self.seed):\n",
    "            # Still seeding\n",
    "            self.inp = self.seed[self.seed_index]\n",
    "            self.seed_index += 1\n",
    "        else:\n",
    "            # Mutating\n",
    "            self.inp = self.create_candidate()\n",
    "        return self.inp"
   ],
   "outputs": [],
   "execution_count": 11
  },
  {
   "cell_type": "code",
   "id": "853dc3d0-4bd7-402c-a3f0-503f7f75bf0c",
   "metadata": {
    "ExecuteTime": {
     "end_time": "2025-05-15T18:47:37.240555Z",
     "start_time": "2025-05-15T18:47:37.234142Z"
    }
   },
   "source": [
    "seed_input = \"http://www.google.com/search?q=fuzzing\"\n",
    "mutation_fuzzer = MutationBlackboxFuzzer(seed=[seed_input])"
   ],
   "outputs": [],
   "execution_count": 12
  },
  {
   "cell_type": "markdown",
   "id": "616c8d08-65d0-476d-ab1c-2aa962f7e973",
   "metadata": {},
   "source": [
    "Remember the `Runner` class we used in the lecture to measure the coverage achieved by a specific input. Instead of calling\n",
    "```python\n",
    "result = urlparse_that_crashes(\"https://uzh.ch\")\n",
    "```\n",
    "\n",
    "you can instead do\n",
    "```python\n",
    "http_runner = FunctionCoverageRunner(urlparse_that_crashes) # define the function here\n",
    "result, isCrash = http_runner.run(\"https://uzh.ch\") # define the input here\n",
    "```\n",
    "which also gives you access to the coverage achieved:\n",
    "```\n",
    "list(http_runner.coverage())\n",
    "```"
   ]
  },
  {
   "cell_type": "code",
   "id": "ad9f65ed-62d3-4f83-9fef-366e22fcee49",
   "metadata": {
    "ExecuteTime": {
     "end_time": "2025-05-15T18:47:38.458162Z",
     "start_time": "2025-05-15T18:47:38.450943Z"
    }
   },
   "source": [
    "http_runner = FunctionCoverageRunner(urlparse_that_crashes) # Only initialize it once per function!\n",
    "http_runner.run(\"https://foo.bar/\")\n",
    "\n",
    "len(list(http_runner.coverage()))"
   ],
   "outputs": [
    {
     "data": {
      "text/plain": [
       "51"
      ]
     },
     "execution_count": 13,
     "metadata": {},
     "output_type": "execute_result"
    }
   ],
   "execution_count": 13
  },
  {
   "cell_type": "markdown",
   "id": "e73ba22a-9279-4273-b278-c756bac51281",
   "metadata": {},
   "source": [
    "Putting it all together, we can now run our fuzzer with a single seed for 1000 trials and measure the number of covered lines  like this"
   ]
  },
  {
   "cell_type": "code",
   "id": "02b5522a-f428-42fa-9885-28135ad6aefe",
   "metadata": {
    "ExecuteTime": {
     "end_time": "2025-05-15T18:47:40.111659Z",
     "start_time": "2025-05-15T18:47:39.906534Z"
    }
   },
   "source": [
    "seed_input = \"https://uzh.ch\"\n",
    "mutation_fuzzer = MutationBlackboxFuzzer(seed=[seed_input])\n",
    "\n",
    "mutation_fuzzer.runs(http_runner, trials=1000)\n",
    "print(mutation_fuzzer.population)\n",
    "\n",
    "print(\"%d lines covered\" % len(http_runner.coverage()))"
   ],
   "outputs": [
    {
     "name": "stdout",
     "output_type": "stream",
     "text": [
      "['https://uzh.ch']\n",
      "52 lines covered\n"
     ]
    }
   ],
   "execution_count": 14
  },
  {
   "cell_type": "markdown",
   "id": "8ebf44ce-6863-48e0-9b9e-7be9551a3eb1",
   "metadata": {},
   "source": [
    "# Task 01 - Investigating the Effect of Starting Seeds\n",
    "In the above run, our fuzzer covers 40 lines using only one starting seed (\"https://uzh.ch\"). Your first task is to investigate the effect of the starting seed in fuzzer performance. We remind that fuzzer performance is usually measure by the achieved coverage of the fuzzer (higher coverage => higher probability of exposing bugs => better performance).\n",
    "\n",
    "Compare the coverage of the `MutationBlackboxFuzzer` with one seed vs ten seeds. The choice of the ten seeds is up to you, you can either handpick ten random urls, or write a small script that randomly navigates the web and returns ten urls for more diversity.\n",
    "\n",
    "Comparing the performance of two fuzzers (or the same fuzzer with different configurations in our case) is a nuanced topic due to the inherent randomness of fuzzing. For example, if we run the `MutationBlackboxFuzzer` with one seed and cover 40 lines, and then run it with ten seeds and cover 42 lines, can we claim that the more starting seeds the better? Probably not.\n",
    "To make claims based on empirical data, we have to run statistical tests. In fuzzing, typically each fuzzer configuration is ran for 30 runs of 10,000 trials (i.e., you run the above cell 30 times), yielding an array of 30 coverage values for each fuzzer. The two arrays are then compared using the Mann-Whitney U Test with the null hypothesis that the values of the first array (i.e., coverage of the first fuzzer) are greater than those of the second array. If the p-value of the test is <0.05, we reject the null hypothesis, claiming that the first fuzzer achieves less coverage than the second one (with confidence level 1-0.05 = 95%).\n",
    "You can run the Mann-Whitney U Test in python with the following code:\n",
    "```python\n",
    "from scipy.stats import mannwhitneyu\n",
    "u_stat, p_value = mannwhitneyu(c1, c2, alternative='less')\n",
    "if p_value < 0.05:\n",
    "    print(\"Values of c1 are smaller than those in c2 with confidence level 95%\")\n",
    "```"
   ]
  },
  {
   "cell_type": "code",
   "id": "bf2b7e79-2552-4dc7-bc43-d348249ec0dd",
   "metadata": {
    "ExecuteTime": {
     "end_time": "2025-05-15T18:47:50.435089Z",
     "start_time": "2025-05-15T18:47:42.939068Z"
    }
   },
   "source": [
    "single_seed = [\"https://uzh.ch\"]\n",
    "ten_seeds = [\n",
    "    \"http://www.google.com\",\n",
    "    \"https://www.youtube.com\",\n",
    "    \"http://www.wikipedia.org\",\n",
    "    \"https://www.github.com\",\n",
    "    \"http://www.stackoverflow.com\",\n",
    "    \"https://www.interdiscount.ch\",\n",
    "    \"http://www.digitec.ch\",\n",
    "    \"https://www.autoscout24.ch\",\n",
    "    \"http://www.sbb.ch\",\n",
    "    \"https://www.rhb.ch\"\n",
    "]\n",
    "\n",
    "http_runner = FunctionCoverageRunner(urlparse_that_crashes)\n",
    "\n",
    "num_runs = 30\n",
    "trials_per_run = 10000\n",
    "\n",
    "coverage_single_seed = []\n",
    "coverage_ten_seeds = []\n",
    "\n",
    "print(f\"Running {num_runs} runs with {trials_per_run} trials each:\")\n",
    "\n",
    "print(\"Single-seed fuzzer:\")\n",
    "for i in range(num_runs):\n",
    "    http_runner = FunctionCoverageRunner(urlparse_that_crashes)\n",
    "    mutation_fuzzer_single = MutationBlackboxFuzzer(seed=single_seed)\n",
    "    mutation_fuzzer_single.runs(http_runner, trials=trials_per_run)\n",
    "    coverage_single_seed.append(len(http_runner.coverage()))\n",
    "    print(f\"{i+1}/{num_runs} Coverage: {coverage_single_seed[-1]}\")\n",
    "\n",
    "print(\"\\nTen-seed fuzzer:\")\n",
    "for i in range(num_runs):\n",
    "    http_runner = FunctionCoverageRunner(urlparse_that_crashes)\n",
    "    mutation_fuzzer_ten = MutationBlackboxFuzzer(seed=ten_seeds)\n",
    "    mutation_fuzzer_ten.runs(http_runner, trials=trials_per_run)\n",
    "    coverage_ten_seeds.append(len(http_runner.coverage()))\n",
    "    print(f\"{i+1}/{num_runs} Coverage: {coverage_ten_seeds[-1]}\")\n",
    "\n",
    "\n",
    "print(\"\\nMann-Whitney U Test:\")\n",
    "u_stat, p_value = mannwhitneyu(coverage_single_seed, coverage_ten_seeds, alternative='less')\n",
    "\n",
    "print(f\"u_stat: {u_stat}\")\n",
    "print(f\"p_value: {p_value}\")\n",
    "\n",
    "if p_value < 0.05:\n",
    "    print(\"Based on the test, the coverage achieved with the ten-seed fuzzer is greater than the coverage achieved with the single-seed fuzzer.\")\n",
    "else:\n",
    "    print(\"Based on the test, the coverage achieved with the ten-seed fuzzer is not greater than the coverage achieved with the single-seed fuzzer.\")\n",
    "\n",
    "print(f\"\\nSingle-seed fuzzer average coverage: {sum(coverage_single_seed) / num_runs}\")\n",
    "print(f\"Ten-seed fuzzer average coverage: {sum(coverage_ten_seeds) / num_runs}\")"
   ],
   "outputs": [
    {
     "name": "stdout",
     "output_type": "stream",
     "text": [
      "Running 30 runs with 10000 trials each:\n",
      "Single-seed fuzzer:\n",
      "1/30 Coverage: 40\n",
      "2/30 Coverage: 42\n",
      "3/30 Coverage: 50\n",
      "4/30 Coverage: 39\n"
     ]
    },
    {
     "ename": "KeyboardInterrupt",
     "evalue": "",
     "output_type": "error",
     "traceback": [
      "\u001B[0;31m---------------------------------------------------------------------------\u001B[0m",
      "\u001B[0;31mKeyboardInterrupt\u001B[0m                         Traceback (most recent call last)",
      "Cell \u001B[0;32mIn[15], line 29\u001B[0m\n\u001B[1;32m     27\u001B[0m http_runner \u001B[38;5;241m=\u001B[39m FunctionCoverageRunner(urlparse_that_crashes)\n\u001B[1;32m     28\u001B[0m mutation_fuzzer_single \u001B[38;5;241m=\u001B[39m MutationBlackboxFuzzer(seed\u001B[38;5;241m=\u001B[39msingle_seed)\n\u001B[0;32m---> 29\u001B[0m \u001B[43mmutation_fuzzer_single\u001B[49m\u001B[38;5;241;43m.\u001B[39;49m\u001B[43mruns\u001B[49m\u001B[43m(\u001B[49m\u001B[43mhttp_runner\u001B[49m\u001B[43m,\u001B[49m\u001B[43m \u001B[49m\u001B[43mtrials\u001B[49m\u001B[38;5;241;43m=\u001B[39;49m\u001B[43mtrials_per_run\u001B[49m\u001B[43m)\u001B[49m\n\u001B[1;32m     30\u001B[0m coverage_single_seed\u001B[38;5;241m.\u001B[39mappend(\u001B[38;5;28mlen\u001B[39m(http_runner\u001B[38;5;241m.\u001B[39mcoverage()))\n\u001B[1;32m     31\u001B[0m \u001B[38;5;28mprint\u001B[39m(\u001B[38;5;124mf\u001B[39m\u001B[38;5;124m\"\u001B[39m\u001B[38;5;132;01m{\u001B[39;00mi\u001B[38;5;241m+\u001B[39m\u001B[38;5;241m1\u001B[39m\u001B[38;5;132;01m}\u001B[39;00m\u001B[38;5;124m/\u001B[39m\u001B[38;5;132;01m{\u001B[39;00mnum_runs\u001B[38;5;132;01m}\u001B[39;00m\u001B[38;5;124m Coverage: \u001B[39m\u001B[38;5;132;01m{\u001B[39;00mcoverage_single_seed[\u001B[38;5;241m-\u001B[39m\u001B[38;5;241m1\u001B[39m]\u001B[38;5;132;01m}\u001B[39;00m\u001B[38;5;124m\"\u001B[39m)\n",
      "File \u001B[0;32m~/Desktop/UZH/6. Semester/Effective Software Testing/EST-Assignments/assignment03/6-Fuzzing/assignment_utils.py:87\u001B[0m, in \u001B[0;36mFuzzer.runs\u001B[0;34m(self, runner, trials)\u001B[0m\n\u001B[1;32m     84\u001B[0m \u001B[38;5;28;01mdef\u001B[39;00m \u001B[38;5;21mruns\u001B[39m(\u001B[38;5;28mself\u001B[39m, runner: Runner \u001B[38;5;241m=\u001B[39m PrintRunner(), trials: \u001B[38;5;28mint\u001B[39m \u001B[38;5;241m=\u001B[39m \u001B[38;5;241m10\u001B[39m) \\\n\u001B[1;32m     85\u001B[0m         \u001B[38;5;241m-\u001B[39m\u001B[38;5;241m>\u001B[39m List[Tuple[subprocess\u001B[38;5;241m.\u001B[39mCompletedProcess, \u001B[38;5;28mstr\u001B[39m]]:\n\u001B[1;32m     86\u001B[0m \u001B[38;5;250m    \u001B[39m\u001B[38;5;124;03m\"\"\"Run `runner` with fuzz input, `trials` times\"\"\"\u001B[39;00m\n\u001B[0;32m---> 87\u001B[0m     \u001B[38;5;28;01mreturn\u001B[39;00m [\u001B[38;5;28;43mself\u001B[39;49m\u001B[38;5;241;43m.\u001B[39;49m\u001B[43mrun\u001B[49m\u001B[43m(\u001B[49m\u001B[43mrunner\u001B[49m\u001B[43m)\u001B[49m \u001B[38;5;28;01mfor\u001B[39;00m i \u001B[38;5;129;01min\u001B[39;00m \u001B[38;5;28mrange\u001B[39m(trials)]\n",
      "File \u001B[0;32m~/Desktop/UZH/6. Semester/Effective Software Testing/EST-Assignments/assignment03/6-Fuzzing/assignment_utils.py:82\u001B[0m, in \u001B[0;36mFuzzer.run\u001B[0;34m(self, runner)\u001B[0m\n\u001B[1;32m     79\u001B[0m \u001B[38;5;28;01mdef\u001B[39;00m \u001B[38;5;21mrun\u001B[39m(\u001B[38;5;28mself\u001B[39m, runner: Runner \u001B[38;5;241m=\u001B[39m Runner()) \\\n\u001B[1;32m     80\u001B[0m         \u001B[38;5;241m-\u001B[39m\u001B[38;5;241m>\u001B[39m Tuple[subprocess\u001B[38;5;241m.\u001B[39mCompletedProcess, \u001B[38;5;28mstr\u001B[39m]:\n\u001B[1;32m     81\u001B[0m \u001B[38;5;250m    \u001B[39m\u001B[38;5;124;03m\"\"\"Run `runner` with fuzz input\"\"\"\u001B[39;00m\n\u001B[0;32m---> 82\u001B[0m     \u001B[38;5;28;01mreturn\u001B[39;00m \u001B[43mrunner\u001B[49m\u001B[38;5;241;43m.\u001B[39;49m\u001B[43mrun\u001B[49m\u001B[43m(\u001B[49m\u001B[38;5;28;43mself\u001B[39;49m\u001B[38;5;241;43m.\u001B[39;49m\u001B[43mfuzz\u001B[49m\u001B[43m(\u001B[49m\u001B[43m)\u001B[49m\u001B[43m)\u001B[49m\n",
      "File \u001B[0;32m~/Desktop/UZH/6. Semester/Effective Software Testing/EST-Assignments/assignment03/6-Fuzzing/assignment_utils.py:44\u001B[0m, in \u001B[0;36mFunctionRunner.run\u001B[0;34m(self, inp)\u001B[0m\n\u001B[1;32m     42\u001B[0m \u001B[38;5;28;01mdef\u001B[39;00m \u001B[38;5;21mrun\u001B[39m(\u001B[38;5;28mself\u001B[39m, inp: \u001B[38;5;28mstr\u001B[39m) \u001B[38;5;241m-\u001B[39m\u001B[38;5;241m>\u001B[39m Tuple[Any, \u001B[38;5;28mstr\u001B[39m]:\n\u001B[1;32m     43\u001B[0m     \u001B[38;5;28;01mtry\u001B[39;00m:\n\u001B[0;32m---> 44\u001B[0m         result \u001B[38;5;241m=\u001B[39m \u001B[38;5;28;43mself\u001B[39;49m\u001B[38;5;241;43m.\u001B[39;49m\u001B[43mrun_function\u001B[49m\u001B[43m(\u001B[49m\u001B[43minp\u001B[49m\u001B[43m)\u001B[49m\n\u001B[1;32m     45\u001B[0m         outcome \u001B[38;5;241m=\u001B[39m \u001B[38;5;28mself\u001B[39m\u001B[38;5;241m.\u001B[39mPASS\n\u001B[1;32m     46\u001B[0m     \u001B[38;5;28;01mexcept\u001B[39;00m \u001B[38;5;167;01mException\u001B[39;00m:\n",
      "File \u001B[0;32m~/Desktop/UZH/6. Semester/Effective Software Testing/EST-Assignments/assignment03/6-Fuzzing/assignment_utils.py:54\u001B[0m, in \u001B[0;36mFunctionCoverageRunner.run_function\u001B[0;34m(self, inp)\u001B[0m\n\u001B[1;32m     53\u001B[0m \u001B[38;5;28;01mdef\u001B[39;00m \u001B[38;5;21mrun_function\u001B[39m(\u001B[38;5;28mself\u001B[39m, inp: \u001B[38;5;28mstr\u001B[39m) \u001B[38;5;241m-\u001B[39m\u001B[38;5;241m>\u001B[39m Any:\n\u001B[0;32m---> 54\u001B[0m \u001B[43m    \u001B[49m\u001B[38;5;28;43;01mwith\u001B[39;49;00m\u001B[43m \u001B[49m\u001B[43mCoverage\u001B[49m\u001B[43m(\u001B[49m\u001B[43m)\u001B[49m\u001B[43m \u001B[49m\u001B[38;5;28;43;01mas\u001B[39;49;00m\u001B[43m \u001B[49m\u001B[43mcov\u001B[49m\u001B[43m:\u001B[49m\n\u001B[1;32m     55\u001B[0m \u001B[43m        \u001B[49m\u001B[38;5;28;43;01mtry\u001B[39;49;00m\u001B[43m:\u001B[49m\n\u001B[1;32m     56\u001B[0m \u001B[43m            \u001B[49m\u001B[43mresult\u001B[49m\u001B[43m \u001B[49m\u001B[38;5;241;43m=\u001B[39;49m\u001B[43m \u001B[49m\u001B[38;5;28;43msuper\u001B[39;49m\u001B[43m(\u001B[49m\u001B[43m)\u001B[49m\u001B[38;5;241;43m.\u001B[39;49m\u001B[43mrun_function\u001B[49m\u001B[43m(\u001B[49m\u001B[43minp\u001B[49m\u001B[43m)\u001B[49m\n",
      "File \u001B[0;32m~/Desktop/UZH/6. Semester/Effective Software Testing/EST-Assignments/assignment03/6-Fuzzing/assignment_utils.py:120\u001B[0m, in \u001B[0;36mCoverage.__enter__\u001B[0;34m(self)\u001B[0m\n\u001B[1;32m    118\u001B[0m \u001B[38;5;250m\u001B[39m\u001B[38;5;124;03m\"\"\"Start of `with` block. Turn on tracing.\"\"\"\u001B[39;00m\n\u001B[1;32m    119\u001B[0m \u001B[38;5;28mself\u001B[39m\u001B[38;5;241m.\u001B[39moriginal_trace_function \u001B[38;5;241m=\u001B[39m sys\u001B[38;5;241m.\u001B[39mgettrace()\n\u001B[0;32m--> 120\u001B[0m \u001B[43msys\u001B[49m\u001B[38;5;241;43m.\u001B[39;49m\u001B[43msettrace\u001B[49m\u001B[43m(\u001B[49m\u001B[38;5;28;43mself\u001B[39;49m\u001B[38;5;241;43m.\u001B[39;49m\u001B[43mtraceit\u001B[49m\u001B[43m)\u001B[49m\n\u001B[1;32m    121\u001B[0m \u001B[38;5;28;01mreturn\u001B[39;00m \u001B[38;5;28mself\u001B[39m\n",
      "\u001B[0;31mKeyboardInterrupt\u001B[0m: "
     ]
    }
   ],
   "execution_count": 15
  },
  {
   "cell_type": "markdown",
   "id": "dd49afa2-546e-47c7-b1f9-d842669447b1",
   "metadata": {},
   "source": [
    "# Task 02: Investigating the Effect of More Sophisticated Mutations\n",
    "The mutation function we implemented above (and in the lecture) is:\n",
    "```python\n",
    "def mutate(s, num_of_mutations = 1):\n",
    "    mutators = [delete_random, insert_random, flip_random]\n",
    "\n",
    "    for i in range(num_of_mutations):\n",
    "        mutator_ind = random.randint(0, 2)\n",
    "        selected_mutator = mutators[mutator_ind]\n",
    "        s = selected_mutator(s)\n",
    "\n",
    "    return s\n",
    "```\n",
    "\n",
    "Your task is to implement a more sophisticated mutation strategy by:\n",
    "1. Extending the `mutate(s, num_of_mutations = 1)` function above to support three more mutators\n",
    "    - Addition of small integers to a random byte\n",
    "    - Replacing a random byte with a completely random byte value\n",
    "    - Block duplucation (insert a random block of characters of `s` in a random position of `s`)\n",
    "2. Extending the `mutate(self, s)` method of `MutationBlackboxFuzzer` so that with probability `p` it calls the `mutate(s, num_of_mutations = 1)` function above and with probability `1-p` mutates the input using **splicing**; Splicing (a.k.a, crossover) refers to selecting another seed from the existing population, and merging a random block of the new seed with the current seed at a random position.\n",
    "\n",
    "Compare the performance of your new fuzzer with the previous fuzzer over 30 runs of 5000 trials each. Use a single starting seed `s=[\"https://www.swissinfo.ch\"]`. What can you claim about the effect of more complex mutations?\n",
    "\n",
    "Note: For more information about the exact mutations used in the most popular fuzzer, AFL, you can have a look at this blog by the AFL creator: https://lcamtuf.blogspot.com/2014/08/binary-fuzzing-strategies-what-works.html"
   ]
  },
  {
   "cell_type": "code",
   "id": "5fcdcd89-52c1-47fe-9e65-52aac62b2f8c",
   "metadata": {
    "ExecuteTime": {
     "end_time": "2025-05-15T19:01:47.121979Z",
     "start_time": "2025-05-15T19:00:56.618942Z"
    }
   },
   "source": [
    "# Extended mutate(s, num_of_mutations = 1) function\n",
    "def delete_random(s):\n",
    "    if not s:\n",
    "        return s\n",
    "    if len(s) == 1:\n",
    "        return \"\"\n",
    "    pos_to_delete = random.randint(0, len(s) - 1)\n",
    "    return s[:pos_to_delete] + s[pos_to_delete+1:]\n",
    "\n",
    "def insert_random(s):\n",
    "    char_to_insert = chr(random.randint(32, 126))\n",
    "    if not s:\n",
    "        return char_to_insert\n",
    "    pos_to_insert = random.randint(0, len(s))\n",
    "    return s[:pos_to_insert] + char_to_insert + s[pos_to_insert:]\n",
    "\n",
    "def flip_random(s):\n",
    "    if not s:\n",
    "        return s\n",
    "    pos_to_flip  = random.randint(0, len(s)-1)\n",
    "    byte_to_flip = ord(s[pos_to_flip]) # char --> byte\n",
    "    bit_to_flip  = 1 << random.randint(0, 6) # 0010000 or 100000\n",
    "    flipped_char = chr(byte_to_flip ^ bit_to_flip)\n",
    "\n",
    "    return s[:pos_to_flip] + flipped_char + s[pos_to_flip+1:]\n",
    "\n",
    "def add_small_int(s):\n",
    "    if not s:\n",
    "        return s\n",
    "    pos_to_add = random.randint(0, len(s) - 1)\n",
    "    byte_to_add = ord(s[pos_to_add])\n",
    "\n",
    "    add_val = random.randint(-10, 10)\n",
    "    if add_val >= 0:\n",
    "        add_val += 1\n",
    "    else:\n",
    "        add_val -= 1\n",
    "\n",
    "    # If byte range is exceeded\n",
    "    new_byte = (byte_to_add + add_val) % 256\n",
    "    flipped_char = chr(new_byte)\n",
    "\n",
    "    return s[:pos_to_add] + flipped_char + s[pos_to_add+1:]\n",
    "\n",
    "def replace_random_byte(s):\n",
    "    if not s: # Handle empty string input\n",
    "        return s\n",
    "    pos_to_replace = random.randint(0, len(s) - 1)\n",
    "\n",
    "    # Random byte value\n",
    "    random_byte = random.randint(32, 126)\n",
    "    replaced_char = chr(random_byte)\n",
    "\n",
    "    return s[:pos_to_replace] + replaced_char + s[pos_to_replace+1:]\n",
    "\n",
    "\n",
    "def block_duplicate(s):\n",
    "    # A string of size at least 2 is needed\n",
    "    if len(s) < 2:\n",
    "        return s\n",
    "\n",
    "    # Select a random start and end position for the block\n",
    "    block_start = random.randint(0, len(s) - 1)\n",
    "    block_end = random.randint(block_start, len(s) - 1)\n",
    "    block_to_duplicate = s[block_start : block_end + 1]\n",
    "\n",
    "    # Select a random position to insert the duplicated block\n",
    "    insert_pos = random.randint(0, len(s))\n",
    "\n",
    "    return s[:insert_pos] + block_to_duplicate + s[insert_pos:]\n",
    "\n",
    "# Modified mutate function\n",
    "def mutate(s, num_of_mutations = 1):\n",
    "    mutators = [delete_random, insert_random, flip_random, add_small_int, replace_random_byte, block_duplicate]\n",
    "\n",
    "    for i in range(num_of_mutations):\n",
    "        mutator_ind = random.randint(0, 5)\n",
    "        selected_mutator = mutators[mutator_ind]\n",
    "        s = selected_mutator(s)\n",
    "\n",
    "    return s\n",
    "\n",
    "\n",
    "# Extended mutate(self, s) method in MutationBlackboxFuzzer\n",
    "class ExtendedMutationBlackboxFuzzer(MutationBlackboxFuzzer):\n",
    "    \"\"\"Extended mutation-based fuzzer with splicing\"\"\"\n",
    "\n",
    "    def __init__(self, seed: List[str], min_mutations: int = 2, max_mutations: int = 10, splicing_prob: float = 0.5) -> None:\n",
    "        \"\"\"Constructor.\n",
    "        `seed` - a list of (input) strings to mutate.\n",
    "        `min_mutations` - the minimum number of mutations to apply.\n",
    "        `max_mutations` - the maximum number of mutations to apply.\n",
    "        `splicing_prob` - the probability of performing splicing instead of pure mutation.\n",
    "        \"\"\"\n",
    "        super().__init__(seed, min_mutations, max_mutations)\n",
    "        self.splicing_prob = splicing_prob\n",
    "\n",
    "        # Ensure the initial seeds are added to the population for splicing\n",
    "        self.population = list(self.seed)\n",
    "\n",
    "\n",
    "    def mutate(self, inp: str) -> str:\n",
    "        return mutate(inp)\n",
    "\n",
    "    def create_candidate(self) -> str:\n",
    "        \"\"\"Create a new candidate using either mutation or splicing.\"\"\"\n",
    "        if random.random() < self.splicing_prob and len(self.population) > 1:\n",
    "            seed1 = random.choice(self.population)\n",
    "            seed2 = None\n",
    "            attempts = 0\n",
    "            max_attempts = 100\n",
    "\n",
    "            while attempts < max_attempts:\n",
    "                temp_seed2 = random.choice(self.population)\n",
    "                if temp_seed2 != seed1:\n",
    "                    seed2 = temp_seed2\n",
    "                    break\n",
    "                attempts += 1\n",
    "\n",
    "            if seed2 is not None:\n",
    "                splice_point1 = random.randint(0, len(seed1))\n",
    "                splice_point2 = random.randint(0, len(seed2))\n",
    "\n",
    "                # Combine parts of seed1 and seed2\n",
    "                candidate = seed1[:splice_point1] + seed2[splice_point2:]\n",
    "\n",
    "                # Optionally apply some mutations after splicing\n",
    "                trials = random.randint(self.min_mutations, self.max_mutations)\n",
    "                for i in range(trials):\n",
    "                    candidate = self.mutate(candidate)\n",
    "\n",
    "                return candidate\n",
    "            else:\n",
    "                # Fallback to mutation on seed1\n",
    "                candidate = seed1\n",
    "                trials = random.randint(self.min_mutations, self.max_mutations)\n",
    "                for i in range(trials):\n",
    "                    candidate = self.mutate(candidate)\n",
    "                return candidate\n",
    "\n",
    "        else:\n",
    "            # Perform pure mutation (like in the original fuzzer but with extended mutators)\n",
    "            candidate = random.choice(self.population)\n",
    "            trials = random.randint(self.min_mutations, self.max_mutations)\n",
    "            for i in range(trials):\n",
    "                candidate = self.mutate(candidate)\n",
    "            return candidate\n",
    "\n",
    "    def run(self, runner: FunctionCoverageRunner) -> Any:\n",
    "        \"\"\"Run function(inp) while tracking coverage and update population.\"\"\"\n",
    "        result, outcome = super().run(runner)\n",
    "        self.population.append(self.inp)\n",
    "\n",
    "\n",
    "        return result\n",
    "\n",
    "    def fuzz(self) -> str:\n",
    "        if self.seed_index < len(self.seed):\n",
    "            self.inp = self.seed[self.seed_index]\n",
    "            self.seed_index += 1\n",
    "        else:\n",
    "            self.inp = self.create_candidate()\n",
    "\n",
    "        return self.inp\n",
    "\n",
    "\n",
    "# Analysis\n",
    "\n",
    "single_seed_task2 = [\"https://www.uzh.ch\"]\n",
    "\n",
    "num_runs_task2 = 30\n",
    "trials_per_run_task2 = 5000\n",
    "\n",
    "coverage_original_fuzzer = []\n",
    "coverage_extended_fuzzer = []\n",
    "\n",
    "print(f\"Running {num_runs_task2} runs with {trials_per_run_task2} trials each:\")\n",
    "\n",
    "print(\"Original MutationBlackboxFuzzer:\")\n",
    "for i in range(num_runs_task2):\n",
    "    http_runner_orig = FunctionCoverageRunner(urlparse_that_crashes)\n",
    "    original_fuzzer = MutationBlackboxFuzzer(seed=single_seed_task2)\n",
    "    original_fuzzer.runs(http_runner_orig, trials=trials_per_run_task2)\n",
    "    coverage_original_fuzzer.append(len(http_runner_orig.coverage()))\n",
    "    print(f\"{i+1}/{num_runs_task2} Coverage: {coverage_original_fuzzer[-1]}\")\n",
    "\n",
    "print(\"\\nExtendedMutationBlackboxFuzzer:\")\n",
    "splicing_probability = 0.5\n",
    "for i in range(num_runs_task2):\n",
    "    http_runner_extended = FunctionCoverageRunner(urlparse_that_crashes)\n",
    "    extended_fuzzer = ExtendedMutationBlackboxFuzzer(seed=single_seed_task2, splicing_prob=splicing_probability)\n",
    "    extended_fuzzer.runs(http_runner_extended, trials=trials_per_run_task2)\n",
    "    coverage_extended_fuzzer.append(len(http_runner_extended.coverage()))\n",
    "    print(f\"{i+1}/{num_runs_task2} Coverage: {coverage_extended_fuzzer[-1]}\")\n",
    "\n",
    "\n",
    "print(\"\\nMann-Whitney U Test:\")\n",
    "u_stat_task2, p_value_task2 = mannwhitneyu(coverage_original_fuzzer, coverage_extended_fuzzer, alternative='less')\n",
    "\n",
    "print(f\"u_stat: {u_stat_task2}\")\n",
    "print(f\"p_value: {p_value_task2}\")\n",
    "\n",
    "if p_value_task2 < 0.05:\n",
    "    print(\"Based on the test, the coverage achieved with the original fuzzer is smaller than the coverage achieved with the ExtendedMutationBlackboxFuzzer fuzzer.\")\n",
    "else:\n",
    "    print(\"Based on the test, the coverage achieved with the original fuzzer is not smaller than the coverage achieved with the ExtendedMutationBlackboxFuzzer fuzzer.\")\n",
    "\n",
    "print(f\"\\nOriginal fuzzer average coverage: {sum(coverage_original_fuzzer) / num_runs_task2}\")\n",
    "print(f\"ExtendedMutationBlackboxFuzzer average coverage: {sum(coverage_extended_fuzzer) / num_runs_task2}\")\n"
   ],
   "outputs": [
    {
     "name": "stdout",
     "output_type": "stream",
     "text": [
      "Running 30 runs with 5000 trials each:\n",
      "Original MutationBlackboxFuzzer:\n",
      "1/30 Coverage: 51\n",
      "2/30 Coverage: 39\n",
      "3/30 Coverage: 52\n",
      "4/30 Coverage: 51\n",
      "5/30 Coverage: 43\n",
      "6/30 Coverage: 51\n",
      "7/30 Coverage: 39\n",
      "8/30 Coverage: 42\n",
      "9/30 Coverage: 43\n",
      "10/30 Coverage: 42\n",
      "11/30 Coverage: 51\n",
      "12/30 Coverage: 51\n",
      "13/30 Coverage: 43\n",
      "14/30 Coverage: 52\n",
      "15/30 Coverage: 42\n",
      "16/30 Coverage: 51\n",
      "17/30 Coverage: 42\n",
      "18/30 Coverage: 43\n",
      "19/30 Coverage: 42\n",
      "20/30 Coverage: 43\n",
      "21/30 Coverage: 51\n",
      "22/30 Coverage: 52\n",
      "23/30 Coverage: 42\n",
      "24/30 Coverage: 42\n",
      "25/30 Coverage: 51\n",
      "26/30 Coverage: 42\n",
      "27/30 Coverage: 42\n",
      "28/30 Coverage: 39\n",
      "29/30 Coverage: 43\n",
      "30/30 Coverage: 42\n",
      "\n",
      "ExtendedMutationBlackboxFuzzer:\n",
      "1/30 Coverage: 40\n",
      "2/30 Coverage: 44\n",
      "3/30 Coverage: 42\n",
      "4/30 Coverage: 39\n",
      "5/30 Coverage: 44\n",
      "6/30 Coverage: 42\n",
      "7/30 Coverage: 43\n",
      "8/30 Coverage: 39\n",
      "9/30 Coverage: 47\n",
      "10/30 Coverage: 43\n",
      "11/30 Coverage: 40\n",
      "12/30 Coverage: 39\n",
      "13/30 Coverage: 44\n",
      "14/30 Coverage: 44\n",
      "15/30 Coverage: 42\n",
      "16/30 Coverage: 42\n",
      "17/30 Coverage: 39\n",
      "18/30 Coverage: 40\n",
      "19/30 Coverage: 42\n",
      "20/30 Coverage: 44\n",
      "21/30 Coverage: 39\n",
      "22/30 Coverage: 40\n",
      "23/30 Coverage: 43\n",
      "24/30 Coverage: 42\n",
      "25/30 Coverage: 46\n",
      "26/30 Coverage: 40\n",
      "27/30 Coverage: 42\n",
      "28/30 Coverage: 43\n",
      "29/30 Coverage: 43\n",
      "30/30 Coverage: 43\n",
      "\n",
      "Mann-Whitney U Test:\n",
      "u_stat: 592.5\n",
      "p_value: 0.9843743154190028\n",
      "Based on the test, the coverage achieved with the original fuzzer is not smaller than the coverage achieved with the ExtendedMutationBlackboxFuzzer fuzzer.\n",
      "\n",
      "Original fuzzer average coverage: 45.3\n",
      "ExtendedMutationBlackboxFuzzer average coverage: 42.0\n"
     ]
    }
   ],
   "execution_count": 23
  },
  {
   "cell_type": "markdown",
   "id": "beaf9f60-cfbe-49b2-b3b8-7ce37d5302e4",
   "metadata": {},
   "source": [
    "# Task 03: Compare With Mutation-Based Greybox Fuzzer\n",
    "To improve on the blackbox fuzzer in the lecture, we implemented the greybox fuzzer below, that dynamically adds a mutated input to the seeds queue if that input covers a new path. \n",
    "\n",
    "Your task is to compare the performance of the (already implemented) greybox fuzzer with that of the blackbox fuzzer over 30 runs of 5000 trials each.\n",
    "Use the same single starting seed as the previous experiment.\n",
    "\n",
    "What can you claim about the performance of they greybox fuzzer?"
   ]
  },
  {
   "cell_type": "code",
   "execution_count": null,
   "id": "1ff1e736-c452-4669-8e19-7d6549aa3b8f",
   "metadata": {},
   "outputs": [],
   "source": [
    "class MutationGreyboxFuzzer(MutationBlackboxFuzzer):\n",
    "    \"\"\"Fuzz with mutated inputs based on coverage\"\"\"\n",
    "\n",
    "    def reset(self) -> None:\n",
    "        super().reset()\n",
    "        self.coverages_seen: Set[frozenset] = set()\n",
    "        # Now empty; we fill this with seed in the first fuzz runs\n",
    "        self.population = []\n",
    "\n",
    "    def run(self, runner: FunctionCoverageRunner) -> Any:\n",
    "        \"\"\"Run function(inp) while tracking coverage.\n",
    "           If we reach new coverage,\n",
    "           add inp to population and its coverage to population_coverage\n",
    "        \"\"\"\n",
    "        result, outcome = super().run(runner)\n",
    "        new_coverage = frozenset(runner.coverage())\n",
    "        if outcome == Runner.PASS and new_coverage not in self.coverages_seen:\n",
    "            # We have new coverage\n",
    "            self.population.append(self.inp)\n",
    "            self.coverages_seen.add(new_coverage)\n",
    "\n",
    "        return result"
   ]
  },
  {
   "cell_type": "code",
   "execution_count": null,
   "id": "693dd205-2572-4e03-8cf0-5dec2ca4a533",
   "metadata": {},
   "outputs": [],
   "source": [
    "# Your code here"
   ]
  },
  {
   "cell_type": "markdown",
   "id": "b03a9770-2aa2-4181-bbd5-dab021fb7562",
   "metadata": {},
   "source": [
    "# Task 04: Boosted Greybox Fuzzer\n",
    "In page 30 of the lecture materials, we discussed about boosting the performance of greybox fuzzers by prioritizing seeds that exercise more rare paths. Your task is to implement this into a class named `BoostedMutationGreyboxFuzzer` and compare its performance against the `MutationGreyboxFuzzer`.\n",
    "\n",
    "Specifically, you must calculate the coverage achieved for each input you feed into the program-under-test, and keep track of how frequently a specific coverage is triggered (hint: you may find the function `getPathID()` below useful for this). \n",
    "\n",
    "Then, when selecting the next seed to mutate, you must select with probability reversly proportional to the frequency of the coverage of each seed. As a result, seeds that exercise rarer paths will be selected more frequently.\n",
    "\n",
    "Compare the performance of your new `BoostedMutationGreyboxFuzzer` with the base `MutationGreyboxFuzzer` in two target programs:\n",
    "1. On the `urlparse_that_crashes()` program using 30 runs of 5,000 trials each and the same single starting seed as above.\n",
    "2. On the `crashme()` program found below, 30 runs of using 10,000 trials and a single starting seed `s=[\"good\"]`."
   ]
  },
  {
   "cell_type": "code",
   "execution_count": null,
   "id": "295e0313-9e0a-49f3-aa06-7cb4f37bf45a",
   "metadata": {},
   "outputs": [],
   "source": [
    "def getPathID(coverage: Any) -> str:\n",
    "    \"\"\"Returns a unique hash for the covered statements\"\"\"\n",
    "    pickled = pickle.dumps(sorted(coverage))\n",
    "    return hashlib.md5(pickled).hexdigest()"
   ]
  },
  {
   "cell_type": "code",
   "execution_count": null,
   "id": "86d9d5bf-1b2e-45bd-9299-e31d68e9f028",
   "metadata": {},
   "outputs": [],
   "source": [
    "def crashme(s: str) -> None:\n",
    "    if len(s) > 0 and s[0] == 'b':\n",
    "        if len(s) > 1 and s[1] == 'a':\n",
    "            if len(s) > 2 and s[2] == 'd':\n",
    "                if len(s) > 3 and s[3] == '!':\n",
    "                    raise Exception()"
   ]
  },
  {
   "cell_type": "code",
   "execution_count": null,
   "id": "81838b3c-8146-48d3-ae85-aa472a469600",
   "metadata": {},
   "outputs": [],
   "source": [
    "class BoostedMutationGreyboxFuzzer(MutationBlackboxFuzzer):\n",
    "    \"\"\"Fuzz with mutated inputs based on coverage\"\"\"\n",
    "\n",
    "    def reset(self) -> None:\n",
    "        super().reset()\n",
    "        self.coverages_seen: Set[frozenset] = set()\n",
    "        # Now empty; we fill this with seed in the first fuzz runs\n",
    "        self.population = []\n",
    "        # Your code here\n",
    "\n",
    "\n",
    "    def run(self, runner: FunctionCoverageRunner) -> Any:\n",
    "        # Your code here\n",
    "\n",
    "    def create_candidate(self) -> str:\n",
    "        # Your code here\n"
   ]
  },
  {
   "cell_type": "code",
   "execution_count": null,
   "id": "f248cf77-9bda-46f2-b27e-31cd284f31d6",
   "metadata": {},
   "outputs": [],
   "source": [
    "# Your code here"
   ]
  }
 ],
 "metadata": {
  "kernelspec": {
   "display_name": "Python 3 (ipykernel)",
   "language": "python",
   "name": "python3"
  },
  "language_info": {
   "codemirror_mode": {
    "name": "ipython",
    "version": 3
   },
   "file_extension": ".py",
   "mimetype": "text/x-python",
   "name": "python",
   "nbconvert_exporter": "python",
   "pygments_lexer": "ipython3",
   "version": "3.9.7"
  }
 },
 "nbformat": 4,
 "nbformat_minor": 5
}
