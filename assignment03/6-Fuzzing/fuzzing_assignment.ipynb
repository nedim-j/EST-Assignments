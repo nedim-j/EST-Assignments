{
 "cells": [
  {
   "cell_type": "markdown",
   "id": "3c9a836b-4d52-476d-b99e-f422e6614dda",
   "metadata": {},
   "source": [
    "# Effective Software Testing - Fuzzing Assignment\n",
    "Both the description and the solution of this assignment will take place in this interactive jupyter notebook. Your deliverable should contain\n",
    "- a `fuzzing_assignment.ipynb`, which will be the edited version of this file that will contain your solution.\n",
    "- an `assignment_utils.py` that we provide you and holds helper classes for the assignment. Generally speaking, you should not edit this file, but see below for details.\n",
    "\n",
    "The assignment *can* be solved only by filling in the cells where there is the comment \"# Your code here\", **but**, many solutions exist, and it is possible that some of them involve editing other cells of even the `assignment_utils.py`. The comments (\"# Your code here\") are **optional**, and they just indicate an exemplary solution that we will make available to you after the deadline. Feel free to edit any other cell, file, or even install new packages (in which case you must submit them in a comment at the beginning). Finally, any comments, documentation, or other remarks in natural language should take place inside this notebook, in a markdown cell.\n",
    "\n",
    "For any question about the assignment, feel free to reach out to `konstantinos.kitsios@uzh.ch`.\n",
    "\n",
    "Read below for more, and good luck!"
   ]
  },
  {
   "cell_type": "markdown",
   "id": "959d7d20-bc4d-4a5e-97e2-4e95272d26f9",
   "metadata": {},
   "source": [
    "# Installation\n",
    "Python 3.9 is required for this assignment.\n",
    "To install the required packages, create a new `pip` virtual environment and install the required libraries by running\n",
    "```\n",
    "pip install -r requirements.txt\n",
    "```\n",
    "\n",
    "If you encounter issues with the python version or the installation of requirements.txt, please reach out to `konstantinos.kitsios@uzh.ch`."
   ]
  },
  {
   "cell_type": "markdown",
   "id": "91e1e437-08a4-4ccf-81c9-d5b233201677",
   "metadata": {
    "jp-MarkdownHeadingCollapsed": true
   },
   "source": [
    "# Setup\n",
    "The first part of the notebook sets up the environment by implementing classes/functions we talked about during the lecture."
   ]
  },
  {
   "cell_type": "code",
   "execution_count": null,
   "id": "b5ba6ead-2ec7-41df-805a-ca72b291b38f",
   "metadata": {},
   "outputs": [],
   "source": [
    "from urllib.parse import urlparse\n",
    "import random\n",
    "import matplotlib.pyplot as plt\n",
    "from scipy.stats import mannwhitneyu\n",
    "import pickle\n",
    "import hashlib\n",
    "from typing import Tuple, List, Callable, Set, Any"
   ]
  },
  {
   "cell_type": "code",
   "execution_count": null,
   "id": "ab3694e3-5ad0-4b3b-a088-d1ef8bf36989",
   "metadata": {},
   "outputs": [],
   "source": [
    "from assignment_utils import Fuzzer, Runner, FunctionRunner, FunctionCoverageRunner, Coverage, population_coverage, Location"
   ]
  },
  {
   "cell_type": "markdown",
   "id": "203615fd-3160-4e4a-8462-9b7384e92f6e",
   "metadata": {},
   "source": [
    "Remember the `urlparse()` function from the lecture? We will use this again. You might also remember that it never crashes, even with invalid urls, so we will use the corresponding `urlparse_that_crashes()`, like we did in the lecture."
   ]
  },
  {
   "cell_type": "code",
   "execution_count": null,
   "id": "8714edfc-99da-494b-a092-3704e183b190",
   "metadata": {},
   "outputs": [],
   "source": [
    "url = \"https://uzh.ch\"\n",
    "urlparse(url)"
   ]
  },
  {
   "cell_type": "code",
   "execution_count": null,
   "id": "21d4e492-1c30-4eca-bbcb-cb4b296d4a76",
   "metadata": {},
   "outputs": [],
   "source": [
    "def urlparse_that_crashes(url: str) -> bool:\n",
    "    supported_schemes = [\"http\", \"https\"]\n",
    "    result = urlparse(url)\n",
    "    if result.scheme not in supported_schemes:\n",
    "        raise ValueError(\"Scheme must be one of \" + repr(supported_schemes))\n",
    "    if result.netloc == '':\n",
    "        raise ValueError(\"Host must be non-empty\")\n",
    "\n",
    "    return True"
   ]
  },
  {
   "cell_type": "markdown",
   "id": "022bd685-e019-48ed-8a5d-a6abb3d652b5",
   "metadata": {},
   "source": [
    "Now, we will copy the code of the second live coding session we did in during the lecture. The code below implements the mutation part of a mutation-based blackbox fuzzer."
   ]
  },
  {
   "cell_type": "code",
   "execution_count": null,
   "id": "9c1058f5-8fc3-4070-9e54-1d04704a4ade",
   "metadata": {},
   "outputs": [],
   "source": [
    "def mutate(s, num_of_mutations = 1):\n",
    "    mutators = [delete_random, insert_random, flip_random]\n",
    "\n",
    "    for i in range(num_of_mutations):\n",
    "        mutator_ind = random.randint(0, 2)\n",
    "        selected_mutator = mutators[mutator_ind]\n",
    "        s = selected_mutator(s)\n",
    "\n",
    "    return s"
   ]
  },
  {
   "cell_type": "code",
   "execution_count": null,
   "id": "356d4ff2-deed-4b17-8cd1-5743c5ad983f",
   "metadata": {},
   "outputs": [],
   "source": [
    "def delete_random(s):\n",
    "    pos_to_delete = random.randint(0, len(s) - 1)\n",
    "    return s[:pos_to_delete-1] + s[pos_to_delete:]"
   ]
  },
  {
   "cell_type": "code",
   "execution_count": null,
   "id": "11b98101-f89d-4f12-88f3-4ff359690824",
   "metadata": {},
   "outputs": [],
   "source": [
    "def insert_random(s):\n",
    "    pos_to_insert = random.randint(0, len(s)-1)\n",
    "    char_to_insert = chr(random.randint(32, 64))\n",
    "    return s[:pos_to_insert-1] + char_to_insert + s[pos_to_insert-1:]"
   ]
  },
  {
   "cell_type": "code",
   "execution_count": null,
   "id": "212a5878-6acb-4ad1-9e47-29202d0bb80d",
   "metadata": {},
   "outputs": [],
   "source": [
    "def flip_random(s):\n",
    "    pos_to_flip  = random.randint(0, len(s)-1)\n",
    "    byte_to_flip = ord(s[pos_to_flip]) # char --> byte\n",
    "    bit_to_flip  = 1 << random.randint(0, 6) # 0010000 or 100000\n",
    "    flipped_char = chr(byte_to_flip ^ bit_to_flip)\n",
    "\n",
    "    return s[:pos_to_flip] + flipped_char + s[pos_to_flip+1:]"
   ]
  },
  {
   "cell_type": "markdown",
   "id": "c14d123e-872e-4aef-b33c-6087e5b981c6",
   "metadata": {},
   "source": [
    "To put the function `mutate()` in use, we will implement the mutation-based blackbox fuzzer in the `MutationBlackboxFuzzer` class as following. The base class `Fuzzer` is just a placeholder that you can find in `utils.py`."
   ]
  },
  {
   "cell_type": "code",
   "execution_count": null,
   "id": "2ea5035c-4de4-4c8f-a63b-65462a9110b8",
   "metadata": {},
   "outputs": [],
   "source": [
    "class MutationBlackboxFuzzer(Fuzzer):\n",
    "    \"\"\"Base class for mutational fuzzing\"\"\"\n",
    "\n",
    "    def __init__(self, seed: List[str],\n",
    "                 min_mutations: int = 2,\n",
    "                 max_mutations: int = 10) -> None:\n",
    "        \"\"\"Constructor.\n",
    "        `seed` - a list of (input) strings to mutate.\n",
    "        `min_mutations` - the minimum number of mutations to apply.\n",
    "        `max_mutations` - the maximum number of mutations to apply.\n",
    "        \"\"\"\n",
    "        self.seed = seed\n",
    "        self.min_mutations = min_mutations\n",
    "        self.max_mutations = max_mutations\n",
    "        self.reset()\n",
    "\n",
    "    def reset(self) -> None:\n",
    "        \"\"\"Set population to initial seed.\n",
    "        To be overloaded in subclasses.\"\"\"\n",
    "        self.population = self.seed\n",
    "        self.seed_index = 0\n",
    "\n",
    "\n",
    "    def mutate(self, inp: str) -> str:\n",
    "        return mutate(inp)\n",
    "\n",
    "    def create_candidate(self) -> str:\n",
    "        \"\"\"Create a new candidate by mutating a population member\"\"\"\n",
    "        candidate = random.choice(self.population)\n",
    "        trials = random.randint(self.min_mutations, self.max_mutations)\n",
    "        for i in range(trials):\n",
    "            candidate = self.mutate(candidate)\n",
    "        return candidate\n",
    "\n",
    "    def fuzz(self) -> str:\n",
    "        # If we did not return all the seeds, return the next seed. Only after we run \n",
    "        # out of seeds, we return a mutated version of the seed\n",
    "        if self.seed_index < len(self.seed):\n",
    "            # Still seeding\n",
    "            self.inp = self.seed[self.seed_index]\n",
    "            self.seed_index += 1\n",
    "        else:\n",
    "            # Mutating\n",
    "            self.inp = self.create_candidate()\n",
    "        return self.inp"
   ]
  },
  {
   "cell_type": "code",
   "execution_count": null,
   "id": "853dc3d0-4bd7-402c-a3f0-503f7f75bf0c",
   "metadata": {},
   "outputs": [],
   "source": [
    "seed_input = \"http://www.google.com/search?q=fuzzing\"\n",
    "mutation_fuzzer = MutationBlackboxFuzzer(seed=[seed_input])"
   ]
  },
  {
   "cell_type": "markdown",
   "id": "616c8d08-65d0-476d-ab1c-2aa962f7e973",
   "metadata": {},
   "source": [
    "Remember the `Runner` class we used in the lecture to measure the coverage achieved by a specific input. Instead of calling\n",
    "```python\n",
    "result = urlparse_that_crashes(\"https://uzh.ch\")\n",
    "```\n",
    "\n",
    "you can instead do\n",
    "```python\n",
    "http_runner = FunctionCoverageRunner(urlparse_that_crashes) # define the function here\n",
    "result, isCrash = http_runner.run(\"https://uzh.ch\") # define the input here\n",
    "```\n",
    "which also gives you access to the coverage achieved:\n",
    "```\n",
    "list(http_runner.coverage())\n",
    "```"
   ]
  },
  {
   "cell_type": "code",
   "execution_count": null,
   "id": "ad9f65ed-62d3-4f83-9fef-366e22fcee49",
   "metadata": {},
   "outputs": [],
   "source": [
    "http_runner = FunctionCoverageRunner(urlparse_that_crashes) # Only initialize it once per function!\n",
    "http_runner.run(\"https://foo.bar/\")\n",
    "\n",
    "len(list(http_runner.coverage()))"
   ]
  },
  {
   "cell_type": "markdown",
   "id": "e73ba22a-9279-4273-b278-c756bac51281",
   "metadata": {},
   "source": [
    "Putting it all together, we can now run our fuzzer with a single seed for 1000 trials and measure the number of covered lines  like this"
   ]
  },
  {
   "cell_type": "code",
   "execution_count": null,
   "id": "02b5522a-f428-42fa-9885-28135ad6aefe",
   "metadata": {},
   "outputs": [],
   "source": [
    "seed_input = \"https://uzh.ch\"\n",
    "mutation_fuzzer = MutationBlackboxFuzzer(seed=[seed_input])\n",
    "\n",
    "mutation_fuzzer.runs(http_runner, trials=1000)\n",
    "print(mutation_fuzzer.population)\n",
    "\n",
    "print(\"%d lines covered\" % len(http_runner.coverage()))"
   ]
  },
  {
   "cell_type": "markdown",
   "id": "8ebf44ce-6863-48e0-9b9e-7be9551a3eb1",
   "metadata": {},
   "source": [
    "# Task 01 - Investigating the Effect of Starting Seeds\n",
    "In the above run, our fuzzer covers 40 lines using only one starting seed (\"https://uzh.ch\"). Your first task is to investigate the effect of the starting seed in fuzzer performance. We remind that fuzzer performance is usually measure by the achieved coverage of the fuzzer (higher coverage => higher probability of exposing bugs => better performance).\n",
    "\n",
    "Compare the coverage of the `MutationBlackboxFuzzer` with one seed vs ten seeds. The choice of the ten seeds is up to you, you can either handpick ten random urls, or write a small script that randomly navigates the web and returns ten urls for more diversity.\n",
    "\n",
    "Comparing the performance of two fuzzers (or the same fuzzer with different configurations in our case) is a nuanced topic due to the inherent randomness of fuzzing. For example, if we run the `MutationBlackboxFuzzer` with one seed and cover 40 lines, and then run it with ten seeds and cover 42 lines, can we claim that the more starting seeds the better? Probably not.\n",
    "To make claims based on empirical data, we have to run statistical tests. In fuzzing, typically each fuzzer configuration is ran for 30 runs of 10,000 trials (i.e., you run the above cell 30 times), yielding an array of 30 coverage values for each fuzzer. The two arrays are then compared using the Mann-Whitney U Test with the null hypothesis that the values of the first array (i.e., coverage of the first fuzzer) are greater than those of the second array. If the p-value of the test is <0.05, we reject the null hypothesis, claiming that the first fuzzer achieves less coverage than the second one (with confidence level 1-0.05 = 95%).\n",
    "You can run the Mann-Whitney U Test in python with the following code:\n",
    "```python\n",
    "from scipy.stats import mannwhitneyu\n",
    "u_stat, p_value = mannwhitneyu(c1, c2, alternative='less')\n",
    "if p_value < 0.05:\n",
    "    print(\"Values of c1 are smaller than those in c2 with confidence level 95%\")\n",
    "```"
   ]
  },
  {
   "cell_type": "code",
   "execution_count": null,
   "id": "bf2b7e79-2552-4dc7-bc43-d348249ec0dd",
   "metadata": {},
   "outputs": [],
   "source": [
    "# Your code here"
   ]
  },
  {
   "cell_type": "markdown",
   "id": "dd49afa2-546e-47c7-b1f9-d842669447b1",
   "metadata": {},
   "source": [
    "# Task 02: Investigating the Effect of More Sophisticated Mutations\n",
    "The mutation function we implemented above (and in the lecture) is:\n",
    "```python\n",
    "def mutate(s, num_of_mutations = 1):\n",
    "    mutators = [delete_random, insert_random, flip_random]\n",
    "\n",
    "    for i in range(num_of_mutations):\n",
    "        mutator_ind = random.randint(0, 2)\n",
    "        selected_mutator = mutators[mutator_ind]\n",
    "        s = selected_mutator(s)\n",
    "\n",
    "    return s\n",
    "```\n",
    "\n",
    "Your task is to implement a more sophisticated mutation strategy by:\n",
    "1. Extending the `mutate(s, num_of_mutations = 1)` function above to support three more mutators\n",
    "    - Addition of small integers to a random byte\n",
    "    - Replacing a random byte with a completely random byte value\n",
    "    - Block duplucation (insert a random block of characters of `s` in a random position of `s`)\n",
    "2. Extending the `mutate(self, s)` method of `MutationBlackboxFuzzer` so that with probability `p` it calls the `mutate(s, num_of_mutations = 1)` function above and with probability `1-p` mutates the input using **splicing**; Splicing (a.k.a, crossover) refers to selecting another seed from the existing population, and merging a random block of the new seed with the current seed at a random position.\n",
    "\n",
    "Compare the performance of your new fuzzer with the previous fuzzer over 30 runs of 5000 trials each. Use a single starting seed `s=[\"https://www.swissinfo.ch\"]`. What can you claim about the effect of more complex mutations?\n",
    "\n",
    "Note: For more information about the exact mutations used in the most popular fuzzer, AFL, you can have a look at this blog by the AFL creator: https://lcamtuf.blogspot.com/2014/08/binary-fuzzing-strategies-what-works.html"
   ]
  },
  {
   "cell_type": "code",
   "execution_count": null,
   "id": "5fcdcd89-52c1-47fe-9e65-52aac62b2f8c",
   "metadata": {},
   "outputs": [],
   "source": [
    "# Your code here"
   ]
  },
  {
   "cell_type": "markdown",
   "id": "beaf9f60-cfbe-49b2-b3b8-7ce37d5302e4",
   "metadata": {},
   "source": [
    "# Task 03: Compare With Mutation-Based Greybox Fuzzer\n",
    "To improve on the blackbox fuzzer in the lecture, we implemented the greybox fuzzer below, that dynamically adds a mutated input to the seeds queue if that input covers a new path. \n",
    "\n",
    "Your task is to compare the performance of the (already implemented) greybox fuzzer with that of the blackbox fuzzer over 30 runs of 5000 trials each.\n",
    "Use the same single starting seed as the previous experiment.\n",
    "\n",
    "What can you claim about the performance of they greybox fuzzer?"
   ]
  },
  {
   "cell_type": "code",
   "execution_count": null,
   "id": "1ff1e736-c452-4669-8e19-7d6549aa3b8f",
   "metadata": {},
   "outputs": [],
   "source": [
    "class MutationGreyboxFuzzer(MutationBlackboxFuzzer):\n",
    "    \"\"\"Fuzz with mutated inputs based on coverage\"\"\"\n",
    "\n",
    "    def reset(self) -> None:\n",
    "        super().reset()\n",
    "        self.coverages_seen: Set[frozenset] = set()\n",
    "        # Now empty; we fill this with seed in the first fuzz runs\n",
    "        self.population = []\n",
    "\n",
    "    def run(self, runner: FunctionCoverageRunner) -> Any:\n",
    "        \"\"\"Run function(inp) while tracking coverage.\n",
    "           If we reach new coverage,\n",
    "           add inp to population and its coverage to population_coverage\n",
    "        \"\"\"\n",
    "        result, outcome = super().run(runner)\n",
    "        new_coverage = frozenset(runner.coverage())\n",
    "        if outcome == Runner.PASS and new_coverage not in self.coverages_seen:\n",
    "            # We have new coverage\n",
    "            self.population.append(self.inp)\n",
    "            self.coverages_seen.add(new_coverage)\n",
    "\n",
    "        return result"
   ]
  },
  {
   "cell_type": "code",
   "execution_count": null,
   "id": "693dd205-2572-4e03-8cf0-5dec2ca4a533",
   "metadata": {},
   "outputs": [],
   "source": [
    "# Your code here"
   ]
  },
  {
   "cell_type": "markdown",
   "id": "b03a9770-2aa2-4181-bbd5-dab021fb7562",
   "metadata": {},
   "source": [
    "# Task 04: Boosted Greybox Fuzzer\n",
    "In page 30 of the lecture materials, we discussed about boosting the performance of greybox fuzzers by prioritizing seeds that exercise more rare paths. Your task is to implement this into a class named `BoostedMutationGreyboxFuzzer` and compare its performance against the `MutationGreyboxFuzzer`.\n",
    "\n",
    "Specifically, you must calculate the coverage achieved for each input you feed into the program-under-test, and keep track of how frequently a specific coverage is triggered (hint: you may find the function `getPathID()` below useful for this). \n",
    "\n",
    "Then, when selecting the next seed to mutate, you must select with probability reversly proportional to the frequency of the coverage of each seed. As a result, seeds that exercise rarer paths will be selected more frequently.\n",
    "\n",
    "Compare the performance of your new `BoostedMutationGreyboxFuzzer` with the base `MutationGreyboxFuzzer` in two target programs:\n",
    "1. On the `urlparse_that_crashes()` program using 30 runs of 5,000 trials each and the same single starting seed as above.\n",
    "2. On the `crashme()` program found below, 30 runs of using 10,000 trials and a single starting seed `s=[\"good\"]`."
   ]
  },
  {
   "cell_type": "code",
   "execution_count": null,
   "id": "295e0313-9e0a-49f3-aa06-7cb4f37bf45a",
   "metadata": {},
   "outputs": [],
   "source": [
    "def getPathID(coverage: Any) -> str:\n",
    "    \"\"\"Returns a unique hash for the covered statements\"\"\"\n",
    "    pickled = pickle.dumps(sorted(coverage))\n",
    "    return hashlib.md5(pickled).hexdigest()"
   ]
  },
  {
   "cell_type": "code",
   "execution_count": null,
   "id": "86d9d5bf-1b2e-45bd-9299-e31d68e9f028",
   "metadata": {},
   "outputs": [],
   "source": [
    "def crashme(s: str) -> None:\n",
    "    if len(s) > 0 and s[0] == 'b':\n",
    "        if len(s) > 1 and s[1] == 'a':\n",
    "            if len(s) > 2 and s[2] == 'd':\n",
    "                if len(s) > 3 and s[3] == '!':\n",
    "                    raise Exception()"
   ]
  },
  {
   "cell_type": "code",
   "execution_count": null,
   "id": "81838b3c-8146-48d3-ae85-aa472a469600",
   "metadata": {},
   "outputs": [],
   "source": [
    "class BoostedMutationGreyboxFuzzer(MutationBlackboxFuzzer):\n",
    "    \"\"\"Fuzz with mutated inputs based on coverage\"\"\"\n",
    "\n",
    "    def reset(self) -> None:\n",
    "        super().reset()\n",
    "        self.coverages_seen: Set[frozenset] = set()\n",
    "        # Now empty; we fill this with seed in the first fuzz runs\n",
    "        self.population = []\n",
    "        # Your code here\n",
    "\n",
    "\n",
    "    def run(self, runner: FunctionCoverageRunner) -> Any:\n",
    "        # Your code here\n",
    "\n",
    "    def create_candidate(self) -> str:\n",
    "        # Your code here\n"
   ]
  },
  {
   "cell_type": "code",
   "execution_count": null,
   "id": "f248cf77-9bda-46f2-b27e-31cd284f31d6",
   "metadata": {},
   "outputs": [],
   "source": [
    "# Your code here"
   ]
  }
 ],
 "metadata": {
  "kernelspec": {
   "display_name": "Python 3 (ipykernel)",
   "language": "python",
   "name": "python3"
  },
  "language_info": {
   "codemirror_mode": {
    "name": "ipython",
    "version": 3
   },
   "file_extension": ".py",
   "mimetype": "text/x-python",
   "name": "python",
   "nbconvert_exporter": "python",
   "pygments_lexer": "ipython3",
   "version": "3.9.7"
  }
 },
 "nbformat": 4,
 "nbformat_minor": 5
}
